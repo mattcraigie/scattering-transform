{
 "cells": [
  {
   "cell_type": "markdown",
   "id": "21d4d656",
   "metadata": {},
   "source": [
    "### Minimal Example of the Scattering Transform\n",
    "\n",
    "This notebook goes through the basic usage of the scattering transform.\n",
    "\n",
    "Imports:"
   ]
  },
  {
   "cell_type": "code",
   "execution_count": 1,
   "id": "d287246e",
   "metadata": {},
   "outputs": [],
   "source": [
    "import torch\n",
    "from scattering_transform.scattering_transform import ScatteringTransform2d, reduce_coefficients\n",
    "from scattering_transform.filters import Morlet"
   ]
  },
  {
   "cell_type": "markdown",
   "id": "9c6f62f9",
   "metadata": {},
   "source": [
    "First, create some mock data to test. This scattering transform only works for square inputs! Note also that the first dimension is a batch dimension."
   ]
  },
  {
   "cell_type": "code",
   "execution_count": 2,
   "id": "4bc86149",
   "metadata": {},
   "outputs": [],
   "source": [
    "batch_size = 32\n",
    "field_size = 128\n",
    "data = torch.randn((batch_size, field_size, field_size))"
   ]
  },
  {
   "cell_type": "markdown",
   "id": "2c276aea",
   "metadata": {},
   "source": [
    "To compute the scattering transform, we need to specify which filters we want to use. The standard Morlet wavelets are built-in, we just have to specify how many scales ($J$) and angles ($L$) to use, to construct the wavelet bank of $\\psi_{jl}$"
   ]
  },
  {
   "cell_type": "code",
   "execution_count": 3,
   "id": "f3f5a699",
   "metadata": {},
   "outputs": [
    {
     "name": "stderr",
     "output_type": "stream",
     "text": [
      "C:\\Users\\s4480225\\PycharmProjects\\ScatteringTransform\\venv\\lib\\site-packages\\torch\\functional.py:504: UserWarning: torch.meshgrid: in an upcoming release, it will be required to pass the indexing argument. (Triggered internally at C:\\actions-runner\\_work\\pytorch\\pytorch\\builder\\windows\\pytorch\\aten\\src\\ATen\\native\\TensorShape.cpp:3484.)\n",
      "  return _VF.meshgrid(tensors, **kwargs)  # type: ignore[attr-defined]\n"
     ]
    }
   ],
   "source": [
    "num_scales = 4\n",
    "num_angles = 4\n",
    "wavelets = Morlet(field_size, num_scales, num_angles)"
   ]
  },
  {
   "cell_type": "markdown",
   "id": "5580b1c3",
   "metadata": {},
   "source": [
    "Next, we set up our scattering transform object that will use these wavelets:"
   ]
  },
  {
   "cell_type": "code",
   "execution_count": 4,
   "id": "cad93f57",
   "metadata": {},
   "outputs": [],
   "source": [
    "st = ScatteringTransform2d(wavelets)"
   ]
  },
  {
   "cell_type": "markdown",
   "id": "b2c0792e",
   "metadata": {},
   "source": [
    "Running the scattering transform on our data is simple:"
   ]
  },
  {
   "cell_type": "code",
   "execution_count": 5,
   "id": "96b245f9",
   "metadata": {},
   "outputs": [],
   "source": [
    "s0, s1, s2  = st.scattering_transform(data)"
   ]
  },
  {
   "cell_type": "markdown",
   "id": "a588dcdd",
   "metadata": {},
   "source": [
    "The scattering transform will return the zeroth $s_0$, first order $s_1$ and second order $s_2$ scattering coefficients in a tuple. To convert these to a single tensor, we can use the reduce_coefficients function. There are 3 reduction schemes include: no reduction (i.e. all the coefficients), rotational averaging (which averages over all rotations) and angular averaging (which averages over all separation angles)."
   ]
  },
  {
   "cell_type": "code",
   "execution_count": 6,
   "id": "e68f7a41",
   "metadata": {},
   "outputs": [
    {
     "name": "stdout",
     "output_type": "stream",
     "text": [
      "All: torch.Size([32, 113])\n",
      "Rot: torch.Size([32, 11])\n",
      "Ang: torch.Size([32, 23])\n"
     ]
    }
   ],
   "source": [
    "s_all = reduce_coefficients(s0, s1, s2, reduction=None)\n",
    "print('All:', s_all.shape)\n",
    "\n",
    "s_rot = reduce_coefficients(s0, s1, s2, reduction='rot_avg')\n",
    "print('Rot:', s_rot.shape)\n",
    "\n",
    "s_ang = reduce_coefficients(s0, s1, s2, reduction='ang_avg')\n",
    "print('Ang:', s_ang.shape)\n"
   ]
  },
  {
   "cell_type": "markdown",
   "id": "e9248efb",
   "metadata": {},
   "source": [
    "This implementation is fast thanks to some fourier space truncations, so we can do a lot of large STs quickly, even on CPU!"
   ]
  },
  {
   "cell_type": "code",
   "execution_count": 7,
   "id": "d8abca70",
   "metadata": {},
   "outputs": [],
   "source": [
    "data = torch.randn((128, 512, 512))"
   ]
  },
  {
   "cell_type": "code",
   "execution_count": 8,
   "id": "61c8f8b8",
   "metadata": {},
   "outputs": [
    {
     "name": "stdout",
     "output_type": "stream",
     "text": [
      "CPU times: total: 4.39 s\n",
      "Wall time: 575 ms\n"
     ]
    }
   ],
   "source": [
    "%%time\n",
    "output = reduce_coefficients(*st.scattering_transform(data))"
   ]
  },
  {
   "cell_type": "markdown",
   "id": "4270424d",
   "metadata": {},
   "source": [
    "If we have a GPU available (and torch compiled with GPU enabled!), we can also move the calculation to GPU easily with the 'to' method. The scattering transform object behaves as a torch.nn.Module would."
   ]
  },
  {
   "cell_type": "code",
   "execution_count": 9,
   "id": "b1075f1f",
   "metadata": {},
   "outputs": [],
   "source": [
    "device = torch.device('cuda')\n",
    "st.to(device)\n",
    "data_cuda = data.to(device)"
   ]
  },
  {
   "cell_type": "code",
   "execution_count": 10,
   "id": "9e7e1f12",
   "metadata": {},
   "outputs": [
    {
     "name": "stdout",
     "output_type": "stream",
     "text": [
      "CPU times: total: 781 ms\n",
      "Wall time: 704 ms\n"
     ]
    }
   ],
   "source": [
    "%%time\n",
    "output = reduce_coefficients(*st.scattering_transform(data_cuda))"
   ]
  }
 ],
 "metadata": {
  "kernelspec": {
   "display_name": "Python 3 (ipykernel)",
   "language": "python",
   "name": "python3"
  },
  "language_info": {
   "codemirror_mode": {
    "name": "ipython",
    "version": 3
   },
   "file_extension": ".py",
   "mimetype": "text/x-python",
   "name": "python",
   "nbconvert_exporter": "python",
   "pygments_lexer": "ipython3",
   "version": "3.9.7"
  }
 },
 "nbformat": 4,
 "nbformat_minor": 5
}
